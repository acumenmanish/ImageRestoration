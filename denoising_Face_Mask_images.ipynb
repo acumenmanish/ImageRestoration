{
  "nbformat": 4,
  "nbformat_minor": 0,
  "metadata": {
    "colab": {
      "private_outputs": true,
      "provenance": []
    },
    "kernelspec": {
      "name": "python3",
      "display_name": "Python 3"
    },
    "language_info": {
      "name": "python"
    }
  },
  "cells": [
    {
      "cell_type": "code",
      "metadata": {
        "id": "812a816f"
      },
      "source": [
        "#@title Download the data\n",
        "!wget -qq https://cdn.iisc.talentsprint.com/CDS/MiniProjects/MP2_FaceMask_Dataset.zip\n",
        "!unzip -qq MP2_FaceMask_Dataset.zip\n",
        "print(\"Data Downloaded Successfuly!!\")"
      ],
      "execution_count": null,
      "outputs": []
    },
    {
      "cell_type": "code",
      "source": [
        "!unzip -qq train.zip"
      ],
      "metadata": {
        "id": "fPzBBAG5d6Ow"
      },
      "execution_count": null,
      "outputs": []
    },
    {
      "cell_type": "code",
      "source": [
        "import numpy as np\n",
        "import PIL\n",
        "from matplotlib import pyplot as plt\n",
        "import glob, os\n",
        "from tensorflow import keras\n",
        "from keras.applications.vgg16 import VGG16\n",
        "from tensorflow.keras.applications.resnet50 import ResNet50\n",
        "from keras.preprocessing.image import ImageDataGenerator\n",
        "from keras.models import Sequential\n",
        "from keras.layers import Conv2D, Input, ZeroPadding2D, BatchNormalization, Activation, MaxPooling2D, Flatten, Dense,Dropout\n",
        "from keras.models import Model, load_model\n",
        "from keras.callbacks import TensorBoard, ModelCheckpoint\n",
        "import os, glob\n",
        "from PIL import Image\n",
        "import pandas as pd"
      ],
      "metadata": {
        "id": "FSB_oGlPCvrs"
      },
      "execution_count": null,
      "outputs": []
    },
    {
      "cell_type": "code",
      "source": [
        "TRAINING_DIR = \"/content/MP2_FaceMask_Dataset/train/\"\n",
        "VALIDATION_DIR = \"/content/MP2_FaceMask_Dataset/test/\"\n",
        "IMG_SIZE = 64"
      ],
      "metadata": {
        "id": "FSLZMZB9DGYA"
      },
      "execution_count": null,
      "outputs": []
    },
    {
      "cell_type": "code",
      "source": [
        "categories=os.listdir(TRAINING_DIR)\n",
        "print('Categories Name :' ,categories)\n",
        "labels=[i for i in range(len(categories))]\n",
        "print('After convert it to 0,1 :',labels)\n",
        "\n",
        "label_dict=dict(zip(categories,labels))\n",
        "print(label_dict)\n",
        "print('len of Labels dictionary : ' , len(label_dict))\n",
        "# Preparing test data\n",
        "categories_tst=os.listdir(VALIDATION_DIR)\n",
        "print('Categories Name :' ,categories)\n",
        "labels_tst=[i for i in range(len(categories))]\n",
        "print('After convert it to 0,1 :',labels_tst)\n",
        "label_dict_tst=dict(zip(categories,labels))\n",
        "print(label_dict_tst)\n",
        "print('len of Labels dictionary : ' , len(label_dict_tst))"
      ],
      "metadata": {
        "id": "rIlUIJFpMIiT"
      },
      "execution_count": null,
      "outputs": []
    },
    {
      "cell_type": "code",
      "source": [
        "import cv2\n",
        "Imges_Data_tst=[]\n",
        "target_tst=[]\n",
        "\n",
        "\n",
        "for  i in categories :\n",
        "    path_Cat_tst=os.path.join(VALIDATION_DIR,i)\n",
        "    print('Path Now is :', path_Cat_tst)\n",
        "    Img_Names=os.listdir(path_Cat_tst)\n",
        "    print(Img_Names[0:10])\n",
        "    \n",
        "    for img in Img_Names :\n",
        "        img_path=os.path.join(path_Cat_tst,img)\n",
        "        imge=cv2.imread(img_path)\n",
        "   \n",
        "        gray_img=cv2.cvtColor(imge,cv2.COLOR_BGR2GRAY)           \n",
        "\n",
        "        dim=(IMG_SIZE,IMG_SIZE)\n",
        "        resized_img = cv2.resize(gray_img, dim)\n",
        "        Imges_Data_tst.append(resized_img)\n",
        "\n",
        "        target_tst.append(label_dict[i])\n",
        "\n",
        "\n"
      ],
      "metadata": {
        "id": "8mMC3VJRGisK"
      },
      "execution_count": null,
      "outputs": []
    },
    {
      "cell_type": "code",
      "source": [
        "import cv2\n",
        "Imges_Data_Train=[]\n",
        "target_Train=[]\n",
        "\n",
        "\n",
        "for  i in categories :\n",
        "    path_Cat=os.path.join(TRAINING_DIR,i)\n",
        "    print('Path Now is :', path_Cat)\n",
        "    Img_Names=os.listdir(path_Cat)\n",
        "    print(Img_Names[0:10])\n",
        "    \n",
        "    for img in Img_Names :\n",
        "        img_path=os.path.join(path_Cat,img)\n",
        "        imge=cv2.imread(img_path)\n",
        "   \n",
        "        gray_img=cv2.cvtColor(imge,cv2.COLOR_BGR2GRAY)           \n",
        "\n",
        "        dim=(IMG_SIZE,IMG_SIZE)\n",
        "        resized_img = cv2.resize(gray_img, dim)\n",
        "        Imges_Data_Train.append(resized_img)\n",
        "\n",
        "        target_Train.append(label_dict[i])"
      ],
      "metadata": {
        "id": "L-fRPgj-Gi2f"
      },
      "execution_count": null,
      "outputs": []
    },
    {
      "cell_type": "code",
      "source": [
        "\n",
        "Imges_Data_Train=np.array(Imges_Data_Train)/255.0\n",
        "Imges_Data_Train=np.reshape(Imges_Data_Train,(Imges_Data_Train.shape[0],IMG_SIZE,IMG_SIZE,1))\n",
        "Imges_Data_tst=np.array(Imges_Data_tst)/255.0\n",
        "Imges_Data_tst=np.reshape(Imges_Data_tst,(Imges_Data_tst.shape[0],IMG_SIZE,IMG_SIZE,1))"
      ],
      "metadata": {
        "id": "vzxt8uz1-k7o"
      },
      "execution_count": null,
      "outputs": []
    },
    {
      "cell_type": "code",
      "source": [
        "noise_factor = 0.4\n",
        "x_train_noisy = Imges_Data_Train + noise_factor * np.random.normal(loc=0.0, scale=1.0, size=Imges_Data_Train.shape) \n",
        "x_test_noisy = Imges_Data_tst + noise_factor * np.random.normal(loc=0.0, scale=1.0, size=Imges_Data_tst.shape) \n",
        "\n",
        "x_train_noisy = np.clip(x_train_noisy, 0., 1.)\n",
        "x_test_noisy = np.clip(x_test_noisy, 0., 1.)\n",
        "\n",
        "#Displaying images with noise\n",
        "plt.figure(figsize=(20, 2))\n",
        "for i in range(1,10):\n",
        "    ax = plt.subplot(1, 10, i)\n",
        "    plt.imshow(x_test_noisy[i].reshape(64, 64), cmap=\"binary\")\n",
        "plt.show()"
      ],
      "metadata": {
        "id": "gbUB33yEG8lh"
      },
      "execution_count": null,
      "outputs": []
    },
    {
      "cell_type": "code",
      "source": [
        "noise_factor = 0.2\n",
        "x_train_noisy = Imges_Data_Train + noise_factor * np.random.normal(loc=0.0, scale=1.0, size=Imges_Data_Train.shape) \n",
        "x_test_noisy = Imges_Data_tst + noise_factor * np.random.normal(loc=0.0, scale=1.0, size=Imges_Data_tst.shape) \n",
        "\n",
        "x_train_noisy = np.clip(x_train_noisy, 0., 1.)\n",
        "x_test_noisy = np.clip(x_test_noisy, 0., 1.)\n",
        "\n",
        "#Displaying images with noise\n",
        "plt.figure(figsize=(20, 2))\n",
        "for i in range(1,10):\n",
        "    ax = plt.subplot(1, 10, i)\n",
        "    plt.imshow(x_test_noisy[i].reshape(64, 64), cmap=\"binary\")\n",
        "plt.show()"
      ],
      "metadata": {
        "id": "CI9Kdl5AHuXI"
      },
      "execution_count": null,
      "outputs": []
    },
    {
      "cell_type": "code",
      "source": [
        "noise_factor = 0.05\n",
        "x_train_noisy = Imges_Data_Train + noise_factor * np.random.normal(loc=0.0, scale=1.0, size=Imges_Data_Train.shape) \n",
        "x_test_noisy = Imges_Data_tst + noise_factor * np.random.normal(loc=0.0, scale=1.0, size=Imges_Data_tst.shape) \n",
        "\n",
        "x_train_noisy = np.clip(x_train_noisy, 0., 1.)\n",
        "x_test_noisy = np.clip(x_test_noisy, 0., 1.)\n",
        "\n",
        "#Displaying images with noise\n",
        "plt.figure(figsize=(20, 2))\n",
        "for i in range(1,10):\n",
        "    ax = plt.subplot(1, 10, i)\n",
        "    plt.imshow(x_test_noisy[i].reshape(64, 64), cmap=\"binary\")\n",
        "plt.show()"
      ],
      "metadata": {
        "id": "8yoCCNIWHuYh"
      },
      "execution_count": null,
      "outputs": []
    },
    {
      "cell_type": "code",
      "source": [
        "import tensorflow as tf\n",
        "tensor1 = tf.convert_to_tensor(x_train_noisy,dtype=tf.float64)\n",
        "tensor2 = tf.convert_to_tensor(Imges_Data_Train,dtype=tf.float64)\n",
        "tensor3 = tf.convert_to_tensor(x_test_noisy,dtype=tf.float64)\n",
        "tensor4 = tf.convert_to_tensor(Imges_Data_tst,dtype=tf.float64)\n",
        "\n",
        "\n",
        "# Model Paramet\n",
        "Batch_size = 32\n",
        "\n",
        "# Instantiate ImageDataGenerator\n",
        "gen = ImageDataGenerator(rescale = 1.0/255, \n",
        "                         width_shift_range = 0.005,\n",
        "                         height_shift_range = 0.005,\n",
        "                         rotation_range = 0,\n",
        "                         horizontal_flip = True)\n",
        "\n",
        "# Generate batches of tensor image data\n",
        "train_batches = gen.flow(tensor1, tensor2, batch_size = batch_size)\n",
        "#Imges_Data_tst.shape,target_tst.tst\n",
        "val_batches = gen.flow(tensor3, tensor4, batch_size = batch_size)"
      ],
      "metadata": {
        "id": "33Gh7fYFIj2A"
      },
      "execution_count": null,
      "outputs": []
    },
    {
      "cell_type": "code",
      "source": [
        "train_batches"
      ],
      "metadata": {
        "id": "MNVMb42-B3Uz"
      },
      "execution_count": null,
      "outputs": []
    },
    {
      "cell_type": "code",
      "source": [
        "from tensorflow.keras.layers import Conv2D, MaxPooling2D, UpSampling2D\n",
        "model = Sequential()\n",
        "model.add(Conv2D(128, (3, 3), activation='relu', padding='same', input_shape=(64, 64, 1)))\n",
        "model.add(MaxPooling2D((2, 2), padding='same'))\n",
        "model.add(Conv2D(120, (3, 3), activation='relu', padding='same'))\n",
        "model.add(MaxPooling2D((2, 2), padding='same'))\n",
        "model.add(Conv2D(64, (3, 3), activation='relu', padding='same'))\n",
        "model.add(MaxPooling2D((2, 2), padding='same'))\n",
        "model.add(Conv2D(32, (3, 3), activation='relu', padding='same'))\n",
        "model.add(MaxPooling2D((2, 2), padding='same'))\n",
        "model.add(Conv2D(8, (3, 3), activation='relu', padding='same'))\n",
        "model.add(MaxPooling2D((2, 2), padding='same'))\n",
        " \n",
        "\n",
        "model.add(Conv2D(8, (3, 3), activation='relu', padding='same'))\n",
        "model.add(UpSampling2D((2, 2)))\n",
        "model.add(Conv2D(32, (3, 3), activation='relu', padding='same'))\n",
        "model.add(UpSampling2D((2, 2)))\n",
        "model.add(Conv2D(64, (3, 3), activation='relu', padding='same'))\n",
        "model.add(UpSampling2D((2, 2)))\n",
        "model.add(Conv2D(120, (3, 3), activation='relu', padding='same'))\n",
        "model.add(UpSampling2D((2, 2)))\n",
        "model.add(Conv2D(128, (3, 3), activation='relu', padding='same'))\n",
        "model.add(UpSampling2D((2, 2)))\n",
        "model.add(Conv2D(1, (3, 3), activation='relu', padding='same'))"
      ],
      "metadata": {
        "id": "yIY2dIacHo0Q"
      },
      "execution_count": null,
      "outputs": []
    },
    {
      "cell_type": "code",
      "source": [
        "model.compile(optimizer='adam', loss='mean_squared_error',metrics=['accuracy'])\n",
        "model.summary()"
      ],
      "metadata": {
        "id": "etQJ7v5rIMSI"
      },
      "execution_count": null,
      "outputs": []
    },
    {
      "cell_type": "code",
      "source": [
        "tensor1.shape"
      ],
      "metadata": {
        "id": "mYz-6hqxyzWl"
      },
      "execution_count": null,
      "outputs": []
    },
    {
      "cell_type": "code",
      "source": [
        "model.fit(train_batches, epochs=500, batch_size= Batch_size, shuffle=True, validation_data=(x_test_noisy, Imges_Data_tst))"
      ],
      "metadata": {
        "id": "83QppAMWIR4o"
      },
      "execution_count": null,
      "outputs": []
    },
    {
      "cell_type": "code",
      "source": [
        "model.evaluate(x_test_noisy, x_test)"
      ],
      "metadata": {
        "id": "Tfy9g3-IK4K2"
      },
      "execution_count": null,
      "outputs": []
    },
    {
      "cell_type": "code",
      "source": [
        "model.save('denoising_autoencoder.model')"
      ],
      "metadata": {
        "id": "zdNlBayrJ5Ss"
      },
      "execution_count": null,
      "outputs": []
    },
    {
      "cell_type": "code",
      "source": [
        "plt.figure(figsize=(40, 4))\n",
        "for i in range(10):\n",
        "  ax = plt.subplot(3, 20, i + 1)\n",
        "  plt.imshow(x_test_noisy[i].reshape(28, 28), cmap=\"binary\")\n",
        "    \n",
        "  ax = plt.subplot(3, 20, 40 +i+ 1)\n",
        "  plt.imshow(Imges_Data_tst[i].reshape(28, 28), cmap=\"binary\")\n",
        "  \n",
        "plt.show()"
      ],
      "metadata": {
        "id": "PI7E70A2LG7j"
      },
      "execution_count": null,
      "outputs": []
    }
  ]
}