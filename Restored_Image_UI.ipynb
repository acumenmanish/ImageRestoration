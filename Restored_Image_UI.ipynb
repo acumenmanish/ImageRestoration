{
  "nbformat": 4,
  "nbformat_minor": 0,
  "metadata": {
    "colab": {
      "provenance": [],
      "include_colab_link": true
    },
    "kernelspec": {
      "name": "python3",
      "display_name": "Python 3"
    },
    "language_info": {
      "name": "python"
    }
  },
  "cells": [
    {
      "cell_type": "markdown",
      "metadata": {
        "id": "view-in-github",
        "colab_type": "text"
      },
      "source": [
        "<a href=\"https://colab.research.google.com/github/acumenmanish/ImageRestoration/blob/master/Restored_Image_UI.ipynb\" target=\"_parent\"><img src=\"https://colab.research.google.com/assets/colab-badge.svg\" alt=\"Open In Colab\"/></a>"
      ]
    },
    {
      "cell_type": "code",
      "source": [
        "!pip install numpy"
      ],
      "metadata": {
        "colab": {
          "base_uri": "https://localhost:8080/"
        },
        "id": "GAq2zz0R12oq",
        "outputId": "4f635423-cc7e-4fd3-e2c7-03bf92ef6814"
      },
      "execution_count": null,
      "outputs": [
        {
          "output_type": "stream",
          "name": "stdout",
          "text": [
            "Looking in indexes: https://pypi.org/simple, https://us-python.pkg.dev/colab-wheels/public/simple/\n",
            "Requirement already satisfied: numpy in /usr/local/lib/python3.9/dist-packages (1.22.4)\n"
          ]
        }
      ]
    },
    {
      "cell_type": "code",
      "source": [
        "!pip install gradio"
      ],
      "metadata": {
        "id": "wxXUUjmn1-n3"
      },
      "execution_count": null,
      "outputs": []
    },
    {
      "cell_type": "code",
      "source": [
        "!pip install requests"
      ],
      "metadata": {
        "id": "BoiSvHsc2AMz"
      },
      "execution_count": null,
      "outputs": []
    },
    {
      "cell_type": "code",
      "execution_count": null,
      "metadata": {
        "colab": {
          "base_uri": "https://localhost:8080/"
        },
        "id": "2_EREEMK1k1a",
        "outputId": "b283faad-1709-4e74-98a6-45e022d171d5"
      },
      "outputs": [
        {
          "output_type": "stream",
          "name": "stderr",
          "text": [
            "WARNING:root:\n",
            "  \u001b[33m\u001b[1mWarning:\u001b[0m to view this Streamlit app on a browser, run it with the following\n",
            "  command:\n",
            "\n",
            "    streamlit run /usr/local/lib/python3.9/dist-packages/ipykernel_launcher.py [ARGUMENTS]\n",
            "2023-04-20 14:28:37.082 \n",
            "  \u001b[33m\u001b[1mWarning:\u001b[0m to view this Streamlit app on a browser, run it with the following\n",
            "  command:\n",
            "\n",
            "    streamlit run /usr/local/lib/python3.9/dist-packages/ipykernel_launcher.py [ARGUMENTS]\n"
          ]
        }
      ],
      "source": [
        "from PIL import Image\n",
        "import numpy as np \n",
        "import streamlit as st \n",
        "import gradio as gr\n",
        "import requests\n",
        "import tensorflow as tf\n",
        "\n",
        "st.title('Welcome to Cohort 11 Image Restoration Project!')\n",
        "\n",
        "\n",
        "# Function to Read and Manupilate Images\n",
        "def load_image(img):\n",
        "    im = Image.open(img)\n",
        "    image = np.array(im)\n",
        "    return image\n",
        "\n",
        "# Uploading the File to the Page\n",
        "uploadFile = st.file_uploader(label=\"Upload image\", type=['jpg', 'png'])\n",
        "\n",
        "# Checking the Format of the page\n",
        "if uploadFile is not None:\n",
        "    # Perform your Manupilations (In my Case applying Filters)\n",
        "    img = load_image(uploadFile)\n",
        "    st.image(img)\n",
        "    st.write(\"Image Uploaded Successfully\")\n",
        "else:\n",
        "    st.write(\"Make sure you image is in JPG/PNG Format.\")\n",
        "    \n",
        "    \n",
        "if st.button('Restore'):\n",
        "    if uploadFile is not None:\n",
        "     # Perform your Manupilations (In my Case applying Filters)\n",
        "     img = load_image(uploadFile)\n",
        "     st.image(img)\n",
        "     st.write(\"Image Restored Successfully\")\n",
        "else:\n",
        "    st.write('Goodbye')\n",
        "\n",
        "\n",
        "\n",
        "def reconstruct_image(input_image):\n",
        "    # Preprocess the input image\n",
        "    img = keras.utils.load_img(\"myDad.jpg.png\", target_size=(128, 128)) #\n",
        "    x = np.array(img)\n",
        "    x = x.astype('float32')/255.0\n",
        "    noise_factor = 0.2\n",
        "    x_noisy = x + noise_factor * np.random.normal(loc=0.0, scale=1.0, size=x.shape)  \n",
        "    x_noisy = np.clip(x_noisy, 0., 1.)\n",
        "    x_noisy = np.expand_dims(x_noisy, axis=0)\n",
        "    x = np.expand_dims(x, axis=0)\n",
        "    \n",
        "    # Pass the preprocessed image through the model to get the reconstructed image\n",
        "    \n",
        "    model = tf2.keras.models.load_model('ImageRestore Model.h5')\n",
        "    reconstructed_image = model.predict(x_noisy)\n",
        "    return reconstruct_image\n",
        "\n",
        "#examples = [\n",
        "#    [os.path.abspath(\"short-pdf.pdf\")],\n",
        "#    [os.path.abspath(\"long-pdf.pdf\")]\n",
        "#]\n",
        "\n",
        "iface = gr.Interface(fn = image_restored, \n",
        "                     inputs = 'image', \n",
        "                     outputs = 'image', \n",
        "                     title = 'Blurred image to restored image Application',\n",
        "                     description = 'Simple application in python to try the Gradio package components',\n",
        "                     article = \n",
        "                        '''<div>\n",
        "                            <p> Please wait while restoration of your image is happening.</p>\n",
        "                        </div>'''\n",
        "                    )"
      ]
    },
    {
      "cell_type": "code",
      "source": [
        "from google.colab import drive\n",
        "drive.mount('/content/drive')"
      ],
      "metadata": {
        "id": "El6BbCstFxO9"
      },
      "execution_count": null,
      "outputs": []
    },
    {
      "cell_type": "code",
      "source": [
        "iface.launch(share=True)"
      ],
      "metadata": {
        "colab": {
          "base_uri": "https://localhost:8080/",
          "height": 609
        },
        "id": "586V0iTLDY-b",
        "outputId": "f40347ad-c326-4040-c854-8edc16d990ac"
      },
      "execution_count": null,
      "outputs": [
        {
          "output_type": "stream",
          "name": "stdout",
          "text": [
            "Colab notebook detected. To show errors in colab notebook, set debug=True in launch()\n",
            "Running on public URL: https://8d1a230b8a61adeccc.gradio.live\n",
            "\n",
            "This share link expires in 72 hours. For free permanent hosting and GPU upgrades (NEW!), check out Spaces: https://huggingface.co/spaces\n"
          ]
        },
        {
          "output_type": "display_data",
          "data": {
            "text/plain": [
              "<IPython.core.display.HTML object>"
            ],
            "text/html": [
              "<div><iframe src=\"https://8d1a230b8a61adeccc.gradio.live\" width=\"100%\" height=\"500\" allow=\"autoplay; camera; microphone; clipboard-read; clipboard-write;\" frameborder=\"0\" allowfullscreen></iframe></div>"
            ]
          },
          "metadata": {}
        },
        {
          "output_type": "execute_result",
          "data": {
            "text/plain": []
          },
          "metadata": {},
          "execution_count": 6
        }
      ]
    }
  ]
}